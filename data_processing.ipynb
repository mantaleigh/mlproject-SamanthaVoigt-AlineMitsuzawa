{
 "cells": [
  {
   "cell_type": "code",
   "execution_count": 95,
   "metadata": {
    "collapsed": false
   },
   "outputs": [],
   "source": [
    "import pandas as pd\n",
    "\n",
    "airbnb_files = ['data/raw_data/Austin_listings.csv', 'data/raw_data/Boston_listings.csv', 'data/raw_data/Asheville_listings.csv']\n"
   ]
  },
  {
   "cell_type": "code",
   "execution_count": 102,
   "metadata": {
    "collapsed": false
   },
   "outputs": [],
   "source": [
    "def drop_airbnb_cols(filename):\n",
    "    df = pd.read_csv(filename)\n",
    "    df.drop(['id', 'listing_url', 'scrape_id', 'last_scraped', 'thumbnail_url', 'medium_url', 'picture_url', 'xl_picture_url', 'host_id', 'host_url', 'host_thumbnail_url', 'host_picture_url', 'calendar_last_scraped'], axis=1, inplace=True)\n",
    "    return df\n",
    "\n",
    "def get_col_names(filename):\n",
    "    return drop_airbnb_cols(filename).columns\n",
    "\n",
    "def segment(df, train, dev, test): \n",
    "    count = len(df.index)\n",
    "    test = test.append(df[-1*int(count*.1):])\n",
    "    dev = test.append(df[-1*int(count*.2):-1*int(count*.1)])\n",
    "    train = test.append(df[:int(count*.8)])\n",
    "    \n",
    "    return train, dev, test\n",
    "    \n",
    "    \n",
    "    "
   ]
  },
  {
   "cell_type": "code",
   "execution_count": 103,
   "metadata": {
    "collapsed": false
   },
   "outputs": [],
   "source": [
    "def create_datasets():\n",
    "    col_names = get_col_names(airbnb_files[0])\n",
    "    \n",
    "    train = pd.DataFrame(columns = col_names)\n",
    "    dev = pd.DataFrame(columns = col_names)\n",
    "    test = pd.DataFrame(columns = col_names)\n",
    "    \n",
    "    for f in airbnb_files: \n",
    "        df = drop_airbnb_cols(f)\n",
    "        train, dev, test = segment(df, train, dev, test) # put data from f into train, dev, test\n",
    "        \n",
    "    return train, dev, test"
   ]
  },
  {
   "cell_type": "code",
   "execution_count": 108,
   "metadata": {
    "collapsed": false
   },
   "outputs": [],
   "source": [
    "train, dev, test = create_datasets()"
   ]
  },
  {
   "cell_type": "code",
   "execution_count": null,
   "metadata": {
    "collapsed": true
   },
   "outputs": [],
   "source": []
  }
 ],
 "metadata": {
  "kernelspec": {
   "display_name": "Python 2",
   "language": "python",
   "name": "python2"
  },
  "language_info": {
   "codemirror_mode": {
    "name": "ipython",
    "version": 2
   },
   "file_extension": ".py",
   "mimetype": "text/x-python",
   "name": "python",
   "nbconvert_exporter": "python",
   "pygments_lexer": "ipython2",
   "version": "2.7.13"
  }
 },
 "nbformat": 4,
 "nbformat_minor": 2
}
