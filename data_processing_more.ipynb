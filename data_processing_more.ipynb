{
 "cells": [
  {
   "cell_type": "code",
   "execution_count": 140,
   "metadata": {
    "collapsed": false,
    "deletable": true,
    "editable": true
   },
   "outputs": [],
   "source": [
    "%matplotlib inline\n",
    "\n",
    "import pandas as pd\n",
    "import numpy as np\n",
    "import csv\n",
    "from sklearn.feature_extraction.text import CountVectorizer\n",
    "from sklearn.linear_model import LinearRegression\n",
    "from scipy import sparse\n",
    "\n",
    "import matplotlib.pyplot as plt\n",
    "\n",
    "airbnb_files = ['data/raw_data/Austin_listings.csv', 'data/raw_data/Boston_listings.csv', 'data/raw_data/Asheville_listings.csv']\n"
   ]
  },
  {
   "cell_type": "code",
   "execution_count": 141,
   "metadata": {
    "collapsed": true,
    "deletable": true,
    "editable": true
   },
   "outputs": [],
   "source": [
    "def drop_airbnb_cols(filename):\n",
    "    '''\n",
    "        input: a filename for detailed airbnb listing data\n",
    "        output: a pandas dataframe with unecessary columns dropped\n",
    "    '''\n",
    "    \n",
    "    df = pd.read_csv(filename)\n",
    "    df.drop(['id', 'listing_url', 'scrape_id', 'last_scraped', 'thumbnail_url', 'medium_url', 'picture_url', \\\n",
    "             'xl_picture_url', 'host_id', 'host_url', 'host_thumbnail_url', 'host_picture_url', 'calendar_last_scraped', \\\n",
    "             'weekly_price', 'monthly_price', 'neighbourhood_cleansed', 'license', 'jurisdiction_names', 'square_feet', \\\n",
    "             'neighbourhood', 'calculated_host_listings_count', 'first_review', 'last_review', 'country', 'country_code', \\\n",
    "            'latitude', 'longitude', 'host_name', 'host_location', 'market', 'state', 'city', 'is_location_exact', \\\n",
    "            'smart_location', 'has_availability', 'calendar_updated', 'host_listings_count', 'experiences_offered', \\\n",
    "            'host_since'], axis=1, inplace=True)\n",
    "    return df\n"
   ]
  },
  {
   "cell_type": "code",
   "execution_count": 142,
   "metadata": {
    "collapsed": true,
    "deletable": true,
    "editable": true
   },
   "outputs": [],
   "source": [
    "def get_col_names(files):\n",
    "    '''\n",
    "        input: a list of detailed airbnb listing data files\n",
    "        output: a list of common column names (columns that occur in all the files)\n",
    "    '''\n",
    "    \n",
    "    counts = {}\n",
    "    \n",
    "    for f in files: \n",
    "        for c in drop_airbnb_cols(f).columns: \n",
    "            if c in counts: \n",
    "                counts[c] += 1\n",
    "            else: \n",
    "                counts[c] = 1\n",
    "\n",
    "    cols = []\n",
    "    for c in counts: \n",
    "        if counts[c] == len(files):\n",
    "            cols.append(c)\n",
    "    \n",
    "    return cols"
   ]
  },
  {
   "cell_type": "code",
   "execution_count": 143,
   "metadata": {
    "collapsed": false,
    "deletable": true,
    "editable": true
   },
   "outputs": [],
   "source": [
    "def segment(vector, train, dev, test): \n",
    "    '''\n",
    "        Separates a vector into train, dev, and test data in 80%/10%/10% divisions.\n",
    "    \n",
    "        input: \n",
    "            - a vector of featurized data\n",
    "            - a list of existing featurized training data\n",
    "            - a list of existing featurized development data\n",
    "            - a list of existing featurized testing data\n",
    "        \n",
    "        output: \n",
    "            - train, dev, and test lists that include the existing featurized dataset (from the input) \n",
    "                appended with data from the input vector\n",
    "    '''\n",
    "    \n",
    "    count = len(vector)\n",
    "    test += vector[-1*int(count*.1):]\n",
    "    dev += vector[-1*int(count*.2):-1*int(count*.1)]\n",
    "    train += vector[:int(count*.8)]\n",
    "    \n",
    "    return train, dev, test\n"
   ]
  },
  {
   "cell_type": "code",
   "execution_count": 144,
   "metadata": {
    "collapsed": true,
    "deletable": true,
    "editable": true
   },
   "outputs": [],
   "source": [
    "def featurize(df):\n",
    "    '''\n",
    "        old featurize function from milestone 2, will be replaced with individual functions for each col category\n",
    "    '''\n",
    "    \n",
    "    df['price'] = df['price'].map(lambda x: x.replace('$', \"\").replace(',',\"\")) # strip $'s and ,'s from the price field\n",
    "    df[['price']] = df[['price']].apply(pd.to_numeric) # turn the cleaned price col into a number col\n",
    "    cols = df.columns.tolist()\n",
    "    cols.remove('price')\n",
    "    cols = ['price'] + cols # put price as the 0th field in the rows\n",
    "    df = df[cols]\n",
    "    \n",
    "    text_cols = df.select_dtypes(exclude=['float64', 'int64']) # get text fields (naïvely)\n",
    "    num_cols = df.select_dtypes(include=['float64', 'int64']) # get number fields (naïvely)\n",
    "    num_cols.fillna(value=0, inplace=True) # fill all NA number fields with 0\n",
    "    \n",
    "    return [list(i) for i in num_cols.as_matrix()] # turn matrix of num cols into a list of lists to write to csv file"
   ]
  },
  {
   "cell_type": "code",
   "execution_count": 145,
   "metadata": {
    "collapsed": true,
    "deletable": true,
    "editable": true
   },
   "outputs": [],
   "source": [
    "def featurize_categorical(df):\n",
    "    df['price'] = df['price'].map(lambda x: x.replace('$', \"\").replace(',',\"\"))\n",
    "    df['price'] = df['price'].apply(pd.to_numeric) # turn the price col into a number col\n",
    "    \n",
    "    # boolean\n",
    "    bool_cols = ['require_guest_profile_picture', 'require_guest_phone_verification', 'requires_license', 'instant_bookable']\n",
    "    bool_map = {'t': 1, 'f': 0}\n",
    "    for col in bool_cols:\n",
    "        df[col].replace(bool_map, inplace=True)\n",
    "    # categorical - rn treating everything else as categorical to simplify things\n",
    "     # TODO: separate ordinal columns\n",
    "    categorical_cols = ['bed_type', 'cancellation_policy', 'room_type']\n",
    "    for col in categorical_cols:\n",
    "        unique_vals = df[col].unique()\n",
    "        cat_map = { unique_vals[i]: i for i in range(len(unique_vals)) }\n",
    "        df[col].replace(cat_map, inplace=True) # slow but ok for now\n",
    "    v = [list(i) for i in df.as_matrix()]\n",
    "    return v"
   ]
  },
  {
   "cell_type": "code",
   "execution_count": 146,
   "metadata": {
    "collapsed": true,
    "deletable": true,
    "editable": true
   },
   "outputs": [],
   "source": [
    "def featurize_text(df):\n",
    "    # TODO: refactor\n",
    "    df['price'] = df['price'].map(lambda x: x.replace('$', \"\").replace(',',\"\"))\n",
    "    df['price'] = df['price'].apply(pd.to_numeric) # turn the price col into a number col\n",
    "    \n",
    "    prices = df['price'].tolist()\n",
    "    X = [[prices[i]] for i in range(len(prices))]\n",
    "    for col in df.columns:\n",
    "        if col != 'price':\n",
    "            corpus = df[col].fillna(value=\"\").values\n",
    "            vectorizer = CountVectorizer()\n",
    "            x = vectorizer.fit_transform(corpus) #TODO: clean text\n",
    "            for i, bow in enumerate(x):\n",
    "                indices = bow.indices\n",
    "                num = bow.data\n",
    "                data = zip(indices, num)\n",
    "                X[i] += [str(datum[0]) + ':' + str(datum[1]) for datum in data]\n",
    "    return X"
   ]
  },
  {
   "cell_type": "code",
   "execution_count": 147,
   "metadata": {
    "collapsed": true,
    "deletable": true,
    "editable": true
   },
   "outputs": [],
   "source": [
    "def featurize_num(df): \n",
    "    pass"
   ]
  },
  {
   "cell_type": "code",
   "execution_count": 148,
   "metadata": {
    "collapsed": false,
    "deletable": true,
    "editable": true
   },
   "outputs": [],
   "source": [
    "def separate_cols(files): \n",
    "    '''\n",
    "        Separates out the different column types into 3 lists of column names. \n",
    "        \n",
    "        input: list of airbnb data files\n",
    "        output: a tuple of length three \n",
    "    '''\n",
    "\n",
    "    cols = get_col_names(files)\n",
    "\n",
    "    label_col = ['price']\n",
    "    # ones that are never null\n",
    "    categorical_cols = ['require_guest_profile_picture', 'require_guest_phone_verification', 'requires_license', 'instant_bookable', 'bed_type', 'cancellation_policy', 'room_type']\n",
    "    num_cols = ['number_of_reviews', 'accommodates', 'minimum_nights', 'maximum_nights', 'guests_included', 'availability_30', 'availability_60', 'availability_90', 'availability_365']\n",
    "    \n",
    "    # c nulls to \"\" \n",
    "    text_cols = ['name', 'neighborhood_overview', 'summary', 'transit', 'street', 'host_neighbourhood', 'notes', 'space', 'description']\n",
    "    \n",
    "    return label_col+categorical_cols, label_col+num_cols, label_col+text_cols\n"
   ]
  },
  {
   "cell_type": "code",
   "execution_count": 149,
   "metadata": {
    "collapsed": true,
    "deletable": true,
    "editable": true
   },
   "outputs": [],
   "source": [
    "def save_datasets(col_type, train, dev, test):\n",
    "    '''\n",
    "        input: \n",
    "            - col_type: categorical, text, num\n",
    "            - train, dev, and test lists of featurized vectors\n",
    "            \n",
    "        Saves 3 csv files: train, dev, and test with col_type prefix\n",
    "    '''\n",
    "    \n",
    "    with open('data/' + col_type + '_train.csv', 'w') as csvfile:\n",
    "        writer = csv.writer(csvfile)\n",
    "        writer.writerows(train)\n",
    "\n",
    "    with open('data/' + col_type + '_dev.csv', 'w') as csvfile:\n",
    "        writer = csv.writer(csvfile)\n",
    "        writer.writerows(dev)\n",
    "\n",
    "    with open('data/' + col_type + '_test.csv', 'w') as csvfile:\n",
    "        writer = csv.writer(csvfile)\n",
    "        writer.writerows(test)\n",
    "        \n",
    "def save_sparse_datasets(col_type, train, dev, test):\n",
    "    train_name = 'data/' + col_type + '_train.csv'\n",
    "    dev_name = 'data/' + col_type + '_dev.csv'\n",
    "    test_name = 'data/' + col_type + '_test.csv'\n",
    "    save_sparse_csr(train_name, train)\n",
    "    save_sparse_csr(dev_name, dev)\n",
    "    save_sparse_csr(test_name, test)\n",
    "    \n",
    "def save_sparse_csr(filename,array):\n",
    "    print array[:5]\n",
    "    print type(array)\n",
    "    array = sparse.csr_matrix(array)\n",
    "    np.savez(filename,data = array.data ,indices=array.indices,\n",
    "             indptr =array.indptr, shape=array.shape )\n",
    "    \n",
    "def load_sparse_csr(filename):\n",
    "    loader = np.load(filename)\n",
    "    return csr_matrix((  loader['data'], loader['indices'], loader['indptr']),\n",
    "                         shape = loader['shape'])"
   ]
  },
  {
   "cell_type": "code",
   "execution_count": 150,
   "metadata": {
    "collapsed": false,
    "deletable": true,
    "editable": true
   },
   "outputs": [],
   "source": [
    "def create_datasets():\n",
    "    '''\n",
    "        Creates train, dev, and test files for each column type (categorical, num, text)\n",
    "    '''\n",
    "    \n",
    "    # this could be cleaned up with a loop for modularity\n",
    "    \n",
    "    categorical_train = []\n",
    "    num_train = []\n",
    "    text_train = []\n",
    "    \n",
    "    categorical_dev = []\n",
    "    num_dev = []\n",
    "    text_dev = []\n",
    "    \n",
    "    categorical_test = []\n",
    "    num_test = []\n",
    "    text_test = []\n",
    "    \n",
    "    categorical_cols, num_cols, text_cols = separate_cols(airbnb_files)\n",
    "\n",
    "    for f in airbnb_files:   \n",
    "        df = pd.read_csv(f, dtype={'zipcode': 'str'})\n",
    "        \n",
    "        categorical_df = df[categorical_cols]\n",
    "        num_df = df[num_cols]\n",
    "        text_df = df[text_cols]\n",
    "        \n",
    "        categorical_vector = featurize_categorical(categorical_df)\n",
    "#         num_vector = featurize_num(num_df)\n",
    "#         text_vector = featurize_text(text_df)\n",
    "\n",
    "        categorical_train, categorical_dev, categorical_test = segment(categorical_vector, categorical_train, categorical_dev, categorical_test)\n",
    "#         num_train, num_dev, num_test = segment(num_vector, num_train, num_dev, num_test)\n",
    "#         text_train, text_dev, text_test = segment(text_vector, text_train, text_dev, text_test)\n",
    "        \n",
    "    save_datasets('categorical', categorical_train, categorical_dev, categorical_test)\n",
    "#     save_datasets('num', num_train, num_dev, num_test)\n",
    "#     save_sparse_datasets('text', text_train, text_dev, text_test)"
   ]
  },
  {
   "cell_type": "code",
   "execution_count": 151,
   "metadata": {
    "collapsed": false,
    "deletable": true,
    "editable": true
   },
   "outputs": [
    {
     "name": "stderr",
     "output_type": "stream",
     "text": [
      "/Users/samanthavoigt/Documents/Wellesley/ML/venv/lib/python2.7/site-packages/ipykernel/__main__.py:2: SettingWithCopyWarning: \n",
      "A value is trying to be set on a copy of a slice from a DataFrame.\n",
      "Try using .loc[row_indexer,col_indexer] = value instead\n",
      "\n",
      "See the caveats in the documentation: http://pandas.pydata.org/pandas-docs/stable/indexing.html#indexing-view-versus-copy\n",
      "  from ipykernel import kernelapp as app\n",
      "/Users/samanthavoigt/Documents/Wellesley/ML/venv/lib/python2.7/site-packages/ipykernel/__main__.py:3: SettingWithCopyWarning: \n",
      "A value is trying to be set on a copy of a slice from a DataFrame.\n",
      "Try using .loc[row_indexer,col_indexer] = value instead\n",
      "\n",
      "See the caveats in the documentation: http://pandas.pydata.org/pandas-docs/stable/indexing.html#indexing-view-versus-copy\n",
      "  app.launch_new_instance()\n"
     ]
    }
   ],
   "source": [
    "create_datasets()"
   ]
  },
  {
   "cell_type": "code",
   "execution_count": 152,
   "metadata": {
    "collapsed": false
   },
   "outputs": [],
   "source": [
    "def read_files_to_datasets(train_file, test_file): \n",
    "    '''\n",
    "        Returns x_train, y_train, x_test, y_test\n",
    "    '''\n",
    "    \n",
    "    train_df = pd.read_csv(train_file)\n",
    "    test_df = pd.read_csv(test_file)\n",
    "    \n",
    "    print train_df[:5]\n",
    "    \n",
    "    y_train = train_df[train_df.columns[0]].as_matrix()\n",
    "    x_train = train_df[train_df.columns[1:]].as_matrix()\n",
    "    y_test = test_df[test_df.columns[0]].as_matrix()\n",
    "    x_test = test_df[test_df.columns[1:]].as_matrix()\n",
    "    \n",
    "    print y_train[:5]\n",
    "    \n",
    "    return x_train, y_train, x_test, y_test"
   ]
  },
  {
   "cell_type": "code",
   "execution_count": 159,
   "metadata": {
    "collapsed": false
   },
   "outputs": [],
   "source": [
    "def lin_reg(X_train, Y_train, X_test, Y_test): \n",
    "    # Create linear regression object\n",
    "    regr = LinearRegression()\n",
    "\n",
    "    # Train the model using the training sets\n",
    "#     regr.fit(np.transpose(np.matrix(X_train)), np.transpose(np.matrix(Y_train)))\n",
    "    regr.fit(X_train, Y_train)\n",
    "\n",
    "    # The coefficients\n",
    "    print('Coefficients: \\n', regr.coef_)\n",
    "    # The mean squared error\n",
    "    print(\"Mean squared error: %.2f\"\n",
    "          % np.mean((regr.predict(X_test) - Y_test) ** 2))\n",
    "    # Explained variance score: 1 is perfect prediction\n",
    "    print('Variance score: %.2f' % regr.score(X_test, Y_test))\n",
    "    \n",
    "    plt.scatter(Y_test, regr.predict(X_test))\n",
    "    plt.xlim(0,500)\n",
    "    plt.xlabel(\"Prices\")\n",
    "    plt.ylabel(\"Predicted Prices\")\n",
    "    plt.title(\"Prices vs. Predicted Prices\")"
   ]
  },
  {
   "cell_type": "code",
   "execution_count": 160,
   "metadata": {
    "collapsed": false
   },
   "outputs": [
    {
     "name": "stdout",
     "output_type": "stream",
     "text": [
      "   300.0  0.0  0.0.1  0.0.2  0.0.3  0.0.4  0.0.5  0.0.6\n",
      "0   99.0  0.0    0.0    0.0    0.0    1.0    0.0    0.0\n",
      "1  100.0  0.0    0.0    0.0    0.0    0.0    1.0    0.0\n",
      "2  100.0  0.0    0.0    0.0    0.0    0.0    1.0    0.0\n",
      "3  599.0  0.0    0.0    0.0    0.0    0.0    2.0    1.0\n",
      "4  100.0  0.0    0.0    0.0    0.0    0.0    1.0    0.0\n",
      "[  99.  100.  100.  599.  100.]\n",
      "('Coefficients: \\n', array([ -1.00924614e+02,   4.16242532e+01,   3.32386174e-14,\n",
      "        -6.10964714e+01,  -6.51429516e+01,   4.17209698e+01,\n",
      "         9.10076749e+01]))\n",
      "Mean squared error: 109382.89\n",
      "Variance score: 0.05\n"
     ]
    },
    {
     "data": {
      "image/png": "[encoded data removed]",
      "text/plain": [
       "<matplotlib.figure.Figure at 0x124214710>"
      ]
     },
     "metadata": {},
     "output_type": "display_data"
    }
   ],
   "source": [
    "x_train, y_train, x_test, y_test = read_files_to_datasets('data/categorical_train.csv', 'data/categorical_test.csv')\n",
    "lin_reg(x_train, y_train, x_test, y_test)"
   ]
  },
  {
   "cell_type": "code",
   "execution_count": null,
   "metadata": {
    "collapsed": true
   },
   "outputs": [],
   "source": []
  },
  {
   "cell_type": "code",
   "execution_count": null,
   "metadata": {
    "collapsed": true
   },
   "outputs": [],
   "source": []
  }
 ],
 "metadata": {
  "kernelspec": {
   "display_name": "Python 2",
   "language": "python",
   "name": "python2"
  },
  "language_info": {
   "codemirror_mode": {
    "name": "ipython",
    "version": 2
   },
   "file_extension": ".py",
   "mimetype": "text/x-python",
   "name": "python",
   "nbconvert_exporter": "python",
   "pygments_lexer": "ipython2",
   "version": "2.7.13"
  }
 },
 "nbformat": 4,
 "nbformat_minor": 2
}
