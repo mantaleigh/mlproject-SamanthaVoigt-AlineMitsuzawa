{
 "cells": [
  {
   "cell_type": "code",
   "execution_count": 50,
   "metadata": {
    "collapsed": false,
    "deletable": true,
    "editable": true
   },
   "outputs": [],
   "source": [
    "import pandas as pd\n",
    "import csv\n",
    "from sklearn.feature_extraction.text import CountVectorizer\n",
    "import numpy as np\n",
    "import scipy.sparse as sp\n",
    "airbnb_files = ['data/raw_data/Austin_listings.csv', 'data/raw_data/Boston_listings.csv', 'data/raw_data/Asheville_listings.csv']\n"
   ]
  },
  {
   "cell_type": "code",
   "execution_count": 59,
   "metadata": {
    "collapsed": false
   },
   "outputs": [],
   "source": [
    "q = np.array([1,2,3])\n",
    "q = q.reshape(q.shape[0], -1)"
   ]
  },
  {
   "cell_type": "code",
   "execution_count": 62,
   "metadata": {
    "collapsed": false
   },
   "outputs": [
    {
     "data": {
      "text/plain": [
       "array([[1, 1, 2],\n",
       "       [2, 2, 3],\n",
       "       [3, 3, 4]])"
      ]
     },
     "execution_count": 62,
     "metadata": {},
     "output_type": "execute_result"
    }
   ],
   "source": [
    "w = np.array([[1,2],[2,3],[3,4]])\n",
    "np.hstack((q,w))"
   ]
  },
  {
   "cell_type": "code",
   "execution_count": 63,
   "metadata": {
    "collapsed": false,
    "deletable": true,
    "editable": true
   },
   "outputs": [],
   "source": [
    "def drop_airbnb_cols(filename):\n",
    "    df = pd.read_csv(filename)\n",
    "    df.drop(['id', 'listing_url', 'scrape_id', 'last_scraped', 'thumbnail_url', 'medium_url', 'picture_url', 'xl_picture_url', 'host_id', 'host_url', 'host_thumbnail_url', 'host_picture_url', 'calendar_last_scraped', 'weekly_price', 'monthly_price', 'neighbourhood_cleansed', \\\n",
    "             'license', 'jurisdiction_names', 'square_feet', 'neighbourhood', 'calculated_host_listings_count'], axis=1, inplace=True)\n",
    "    return df\n",
    "\n",
    "def get_col_names(files):\n",
    "    counts = {}\n",
    "    \n",
    "    for f in files: \n",
    "        for c in drop_airbnb_cols(f).columns: \n",
    "            if c in counts: \n",
    "                counts[c] += 1\n",
    "            else: \n",
    "                counts[c] = 1\n",
    "\n",
    "    cols = []\n",
    "    for c in counts: \n",
    "        if counts[c] == 3:\n",
    "            cols.append(c)\n",
    "    \n",
    "    return cols\n",
    "\n",
    "def segment(vector, train, dev, test): \n",
    "    count = len(vector)\n",
    "    test += vector[-1*int(count*.1):]\n",
    "    dev += vector[-1*int(count*.2):-1*int(count*.1)]\n",
    "    train += vector[:int(count*.8)]\n",
    "    \n",
    "    return train, dev, test\n",
    "    \n",
    "def featurize(df):\n",
    "    df['price'] = df['price'].map(lambda x: x.replace('$', \"\").replace(',',\"\"))\n",
    "    df[['price']] = df[['price']].apply(pd.to_numeric) # turn the price col into a number col\n",
    "    prices = df['price']\n",
    "    text_cols = ['neighborhood_overview', 'space', 'description', 'host_about', 'notes', 'summary']\n",
    "    X = prices.reshape(prices.shape[0], -1)\n",
    "    for col in text_cols:\n",
    "        corpus = df[col].fillna(value=\"\").values\n",
    "        vectorizer = CountVectorizer()\n",
    "        x = vectorizer.fit_transform(corpus) #TODO: clean text\n",
    "        X = sp.hstack((X, x))\n",
    "    np.savez('data/all.sparse',data = x.data ,indices=x.indices,\n",
    "             indptr =x.indptr, shape=x.shape )\n",
    "    return X"
   ]
  },
  {
   "cell_type": "code",
   "execution_count": 42,
   "metadata": {
    "collapsed": false,
    "deletable": true,
    "editable": true
   },
   "outputs": [],
   "source": [
    "def create_datasets():\n",
    "    col_names = get_col_names(airbnb_files)\n",
    "\n",
    "    train = []\n",
    "    dev = []\n",
    "    test = []\n",
    "    \n",
    "    for f in airbnb_files:   \n",
    "        df = pd.read_csv(f, dtype={'zipcode': 'str'})\n",
    "        df = df[col_names]\n",
    "        vector = featurize(df)\n",
    "#         train, dev, test = segment(vector, train, dev, test) # put data from f into train, dev, test\n",
    "        \n",
    "    return train, dev, test"
   ]
  },
  {
   "cell_type": "code",
   "execution_count": 36,
   "metadata": {
    "collapsed": false
   },
   "outputs": [],
   "source": [
    "def save_datasets(train, dev, test):\n",
    "    with open('data/train_text.csv', 'w') as csvfile:\n",
    "        writer = csv.writer(csvfile)\n",
    "        writer.writerows(train)\n",
    "\n",
    "#     with open('data/dev_text.csv', 'w') as csvfile:\n",
    "#         writer = csv.writer(csvfile)\n",
    "#         writer.writerows(dev)\n",
    "\n",
    "#     with open('data/test_text.csv', 'w') as csvfile:\n",
    "#         writer = csv.writer(csvfile)\n",
    "#         writer.writerows(test)"
   ]
  },
  {
   "cell_type": "code",
   "execution_count": 37,
   "metadata": {
    "collapsed": false
   },
   "outputs": [],
   "source": [
    "a = _"
   ]
  },
  {
   "cell_type": "code",
   "execution_count": 128,
   "metadata": {
    "collapsed": false
   },
   "outputs": [
    {
     "name": "stdout",
     "output_type": "stream",
     "text": [
      "X len bf:  5\n",
      "X len after:  5\n",
      "CHECK: \n",
      "X len bf:  5\n",
      "X len after:  5\n",
      "CHECK: \n",
      "X len bf:  5\n",
      "X len after:  5\n",
      "CHECK: \n",
      "12\n"
     ]
    }
   ],
   "source": [
    "save_datasets(*create_datasets())"
   ]
  },
  {
   "cell_type": "code",
   "execution_count": 64,
   "metadata": {
    "collapsed": false
   },
   "outputs": [
    {
     "name": "stdout",
     "output_type": "stream",
     "text": [
      "shape price:  (5835, 1)\n",
      "shape x:  (5835, 7096)\n",
      "shape price:  (5835, 7097)\n",
      "shape x:  (5835, 11385)\n",
      "shape price:  (5835, 18482)\n",
      "shape x:  (5835, 13966)\n",
      "shape price:  (5835, 32448)\n",
      "shape x:  (5835, 10526)\n",
      "shape price:  (5835, 42974)\n",
      "shape x:  (5835, 6224)\n",
      "shape price:  (5835, 49198)\n",
      "shape x:  (5835, 6660)\n",
      "shape price:  (3585, 1)\n",
      "shape x:  (3585, 5481)\n",
      "shape price:  (3585, 5482)\n",
      "shape x:  (3585, 7477)\n",
      "shape price:  (3585, 12959)\n",
      "shape x:  (3585, 10204)\n",
      "shape price:  (3585, 23163)\n",
      "shape x:  (3585, 6492)\n",
      "shape price:  (3585, 29655)\n",
      "shape x:  (3585, 4764)\n",
      "shape price:  (3585, 34419)\n",
      "shape x:  (3585, 5598)\n",
      "shape price:  (864, 1)\n",
      "shape x:  (864, 3288)\n",
      "shape price:  (864, 3289)\n",
      "shape x:  (864, 5239)\n",
      "shape price:  (864, 8528)\n",
      "shape x:  (864, 6400)\n",
      "shape price:  (864, 14928)\n",
      "shape x:  (864, 4987)\n",
      "shape price:  (864, 19915)\n",
      "shape x:  (864, 3616)\n",
      "shape price:  (864, 23531)\n",
      "shape x:  (864, 3015)\n"
     ]
    },
    {
     "data": {
      "text/plain": [
       "([], [], [])"
      ]
     },
     "execution_count": 64,
     "metadata": {},
     "output_type": "execute_result"
    }
   ],
   "source": [
    "create_datasets()"
   ]
  },
  {
   "cell_type": "code",
   "execution_count": 65,
   "metadata": {
    "collapsed": true
   },
   "outputs": [],
   "source": [
    "def load_sparse_csr(filename):\n",
    "    loader = np.load(filename)\n",
    "    return sp.csr_matrix((  loader['data'], loader['indices'], loader['indptr']),\n",
    "                         shape = loader['shape'])"
   ]
  },
  {
   "cell_type": "code",
   "execution_count": 66,
   "metadata": {
    "collapsed": false
   },
   "outputs": [
    {
     "data": {
      "text/plain": [
       "<864x3015 sparse matrix of type '<type 'numpy.int64'>'\n",
       "\twith 27405 stored elements in Compressed Sparse Row format>"
      ]
     },
     "execution_count": 66,
     "metadata": {},
     "output_type": "execute_result"
    }
   ],
   "source": [
    "load_sparse_csr('data/all.sparse.npz')"
   ]
  },
  {
   "cell_type": "code",
   "execution_count": 68,
   "metadata": {
    "collapsed": false
   },
   "outputs": [],
   "source": [
    "a = _"
   ]
  },
  {
   "cell_type": "code",
   "execution_count": 69,
   "metadata": {
    "collapsed": true
   },
   "outputs": [],
   "source": [
    "a = a.todense()"
   ]
  },
  {
   "cell_type": "code",
   "execution_count": 71,
   "metadata": {
    "collapsed": false
   },
   "outputs": [
    {
     "data": {
      "text/plain": [
       "matrix([[0, 0, 0, ..., 0, 0, 0]])"
      ]
     },
     "execution_count": 71,
     "metadata": {},
     "output_type": "execute_result"
    }
   ],
   "source": [
    "a[0]"
   ]
  },
  {
   "cell_type": "code",
   "execution_count": null,
   "metadata": {
    "collapsed": true
   },
   "outputs": [],
   "source": []
  }
 ],
 "metadata": {
  "kernelspec": {
   "display_name": "Python 2",
   "language": "python",
   "name": "python2"
  },
  "language_info": {
   "codemirror_mode": {
    "name": "ipython",
    "version": 2
   },
   "file_extension": ".py",
   "mimetype": "text/x-python",
   "name": "python",
   "nbconvert_exporter": "python",
   "pygments_lexer": "ipython2",
   "version": "2.7.11"
  }
 },
 "nbformat": 4,
 "nbformat_minor": 2
}
